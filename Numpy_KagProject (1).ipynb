{
  "nbformat": 4,
  "nbformat_minor": 0,
  "metadata": {
    "colab": {
      "name": "Numpy_KagProject.ipynb",
      "provenance": [],
      "collapsed_sections": []
    },
    "kernelspec": {
      "name": "python3",
      "display_name": "Python 3"
    },
    "language_info": {
      "name": "python"
    }
  },
  "cells": [
    {
      "cell_type": "code",
      "metadata": {
        "id": "1ITK_e3lXl5w"
      },
      "source": [
        "#importing numpy library\n",
        "import numpy as np"
      ],
      "execution_count": null,
      "outputs": []
    },
    {
      "cell_type": "code",
      "metadata": {
        "colab": {
          "base_uri": "https://localhost:8080/"
        },
        "id": "r7zSnQfbX4MV",
        "outputId": "833d68b8-bb04-4fcb-b115-28ea8b9fbdc6"
      },
      "source": [
        "#Reading the csv file\n",
        "data=\"/content/drive/MyDrive/KAG_Conversion_Data.csv\"\n",
        "d2=np.genfromtxt(data, delimiter=\",\", encoding=None, skip_header=1, dtype=str)\n",
        "d2e=np.genfromtxt(data, delimiter=\",\",dtype=float,skip_header=1)\n",
        "print(\"DATA: \\n\",d2)"
      ],
      "execution_count": null,
      "outputs": [
        {
          "output_type": "stream",
          "text": [
            "DATA: \n",
            " [['708746' '916' '103916' ... '1.429999948' '2' '1']\n",
            " ['708749' '916' '103917' ... '1.820000023' '2' '0']\n",
            " ['708771' '916' '103920' ... '0' '1' '0']\n",
            " ...\n",
            " ['1314412' '1178' '179979' ... '40.28999949' '2' '0']\n",
            " ['1314414' '1178' '179981' ... '198.7100005' '8' '2']\n",
            " ['1314415' '1178' '179982' ... '165.6099987' '5' '2']]\n"
          ],
          "name": "stdout"
        }
      ]
    },
    {
      "cell_type": "code",
      "metadata": {
        "id": "Ltuqg-xHYSHA"
      },
      "source": [
        "#Storing the number of unique ad campaigns in unique_cids variable\n",
        "unique_cids=np.unique(d2[ : ,1])"
      ],
      "execution_count": null,
      "outputs": []
    },
    {
      "cell_type": "code",
      "metadata": {
        "colab": {
          "base_uri": "https://localhost:8080/"
        },
        "id": "5Imi3UIZYlj5",
        "outputId": "58c9e306-313f-4e3d-a2a5-4e626460a4d2"
      },
      "source": [
        "unique_cids"
      ],
      "execution_count": null,
      "outputs": [
        {
          "output_type": "execute_result",
          "data": {
            "text/plain": [
              "array(['1178', '916', '936'], dtype='<U11')"
            ]
          },
          "metadata": {},
          "execution_count": 6
        }
      ]
    },
    {
      "cell_type": "code",
      "metadata": {
        "colab": {
          "base_uri": "https://localhost:8080/"
        },
        "id": "nlTmTHbFYonq",
        "outputId": "260d386f-c4f0-41b1-f6c7-06ab14a4c9ee"
      },
      "source": [
        "len(unique_cids)"
      ],
      "execution_count": null,
      "outputs": [
        {
          "output_type": "execute_result",
          "data": {
            "text/plain": [
              "3"
            ]
          },
          "metadata": {},
          "execution_count": 7
        }
      ]
    },
    {
      "cell_type": "markdown",
      "metadata": {
        "id": "pnFo9ClugVPd"
      },
      "source": [
        "So we have 3 unique ad campaign ids: 1178,916,936"
      ]
    },
    {
      "cell_type": "code",
      "metadata": {
        "colab": {
          "base_uri": "https://localhost:8080/"
        },
        "id": "pfnCREkHYr_X",
        "outputId": "cf40963b-b203-46e2-c91f-8d6d34d6580b"
      },
      "source": [
        "#Number of times the campaign with id 916 was run\n",
        "len(d2[d2[ : ,1 ]==\"916\"])"
      ],
      "execution_count": null,
      "outputs": [
        {
          "output_type": "execute_result",
          "data": {
            "text/plain": [
              "54"
            ]
          },
          "metadata": {},
          "execution_count": 9
        }
      ]
    },
    {
      "cell_type": "code",
      "metadata": {
        "colab": {
          "base_uri": "https://localhost:8080/"
        },
        "id": "bkK9U7MLY48b",
        "outputId": "b2db102b-9880-4e56-c011-2e55dfdd0fd8"
      },
      "source": [
        "#Number of times the campaign with id 936 was run\n",
        "len(d2[d2[ : ,1 ]==\"936\"])"
      ],
      "execution_count": null,
      "outputs": [
        {
          "output_type": "execute_result",
          "data": {
            "text/plain": [
              "464"
            ]
          },
          "metadata": {},
          "execution_count": 10
        }
      ]
    },
    {
      "cell_type": "code",
      "metadata": {
        "colab": {
          "base_uri": "https://localhost:8080/"
        },
        "id": "bPPzEgPHY_lk",
        "outputId": "88702764-1a5d-460d-c382-ddfb8545c627"
      },
      "source": [
        "#Number of times the campaign with id 1178 was run\n",
        "len(d2[d2[ : ,1 ]==\"1178\"])"
      ],
      "execution_count": null,
      "outputs": [
        {
          "output_type": "execute_result",
          "data": {
            "text/plain": [
              "625"
            ]
          },
          "metadata": {},
          "execution_count": 11
        }
      ]
    },
    {
      "cell_type": "code",
      "metadata": {
        "colab": {
          "base_uri": "https://localhost:8080/"
        },
        "id": "Dh0GNp3nZBKY",
        "outputId": "3679214c-feaa-464e-b883-c4f21845e551"
      },
      "source": [
        "#The age groups that were targeted through ad campaigns\n",
        "age_groups=d2[ : ,3]\n",
        "age_groups"
      ],
      "execution_count": null,
      "outputs": [
        {
          "output_type": "execute_result",
          "data": {
            "text/plain": [
              "array(['30-34', '30-34', '30-34', ..., '45-49', '45-49', '45-49'],\n",
              "      dtype='<U11')"
            ]
          },
          "metadata": {},
          "execution_count": 13
        }
      ]
    },
    {
      "cell_type": "code",
      "metadata": {
        "colab": {
          "base_uri": "https://localhost:8080/"
        },
        "id": "YAxMONp7ZpIC",
        "outputId": "664e2b1a-7c22-423f-b505-f7d4ec5d12ba"
      },
      "source": [
        "#Storing the amount spent on ads in ads_amount variable\n",
        "ads_amount=d2e[ : ,8]\n",
        "ads_amount"
      ],
      "execution_count": null,
      "outputs": [
        {
          "output_type": "execute_result",
          "data": {
            "text/plain": [
              "array([  1.42999995,   1.82000002,   0.        , ...,  40.28999949,\n",
              "       198.7100005 , 165.6099987 ])"
            ]
          },
          "metadata": {},
          "execution_count": 15
        }
      ]
    },
    {
      "cell_type": "code",
      "metadata": {
        "colab": {
          "base_uri": "https://localhost:8080/"
        },
        "id": "plfa2cXHZwIx",
        "outputId": "bef8f254-4169-4d38-8a8a-3dac217de498"
      },
      "source": [
        "#Minimum amount spent on ads\n",
        "np.min(ads_amount)"
      ],
      "execution_count": null,
      "outputs": [
        {
          "output_type": "execute_result",
          "data": {
            "text/plain": [
              "0.0"
            ]
          },
          "metadata": {},
          "execution_count": 16
        }
      ]
    },
    {
      "cell_type": "code",
      "metadata": {
        "colab": {
          "base_uri": "https://localhost:8080/"
        },
        "id": "12DKcQt2bkl1",
        "outputId": "2e8260ad-9498-4d49-c653-5a42d9b8073b"
      },
      "source": [
        "#Average amount spent on ads\n",
        "int(np.mean(ads_amount))"
      ],
      "execution_count": null,
      "outputs": [
        {
          "output_type": "execute_result",
          "data": {
            "text/plain": [
              "51"
            ]
          },
          "metadata": {},
          "execution_count": 25
        }
      ]
    },
    {
      "cell_type": "code",
      "metadata": {
        "colab": {
          "base_uri": "https://localhost:8080/"
        },
        "id": "mn6cALRcboPI",
        "outputId": "e5634ab2-2402-43d8-b104-e81c8512cd43"
      },
      "source": [
        "#Maximum amount spent on ads\n",
        "int(np.max(ads_amount))"
      ],
      "execution_count": null,
      "outputs": [
        {
          "output_type": "execute_result",
          "data": {
            "text/plain": [
              "639"
            ]
          },
          "metadata": {},
          "execution_count": 26
        }
      ]
    },
    {
      "cell_type": "code",
      "metadata": {
        "colab": {
          "base_uri": "https://localhost:8080/"
        },
        "id": "ni5IapdVbqKK",
        "outputId": "955af9ec-3ce7-430c-e7a5-ed241943ea50"
      },
      "source": [
        "#Finding the max number of clicks on an ad \n",
        "max_clicks=int(np.max(d2e[: ,7 ]))\n",
        "max_clicks"
      ],
      "execution_count": null,
      "outputs": [
        {
          "output_type": "execute_result",
          "data": {
            "text/plain": [
              "421"
            ]
          },
          "metadata": {},
          "execution_count": 20
        }
      ]
    },
    {
      "cell_type": "code",
      "metadata": {
        "colab": {
          "base_uri": "https://localhost:8080/"
        },
        "id": "A0fEPcvFbzPN",
        "outputId": "e6a83386-71ef-474d-a0e8-9232b6ba2df3"
      },
      "source": [
        "#Finding the Id of the ad with max number of clicks (=421)\n",
        "int(d2e[ : ,0][d2e[ : ,7]==421])"
      ],
      "execution_count": null,
      "outputs": [
        {
          "output_type": "execute_result",
          "data": {
            "text/plain": [
              "1121814"
            ]
          },
          "metadata": {},
          "execution_count": 21
        }
      ]
    },
    {
      "cell_type": "code",
      "metadata": {
        "colab": {
          "base_uri": "https://localhost:8080/"
        },
        "id": "m4ugzM8ob53P",
        "outputId": "2231ecf7-5969-4d1c-847f-e8ce3f337105"
      },
      "source": [
        "#Finding the number of people who bought the product after\n",
        "#watching the ad with max clicks\n",
        "int(d2e[ : ,10][d2e[ : ,7]==421])"
      ],
      "execution_count": null,
      "outputs": [
        {
          "output_type": "execute_result",
          "data": {
            "text/plain": [
              "13"
            ]
          },
          "metadata": {},
          "execution_count": 22
        }
      ]
    },
    {
      "cell_type": "code",
      "metadata": {
        "colab": {
          "base_uri": "https://localhost:8080/"
        },
        "id": "BS_PZpSTb8ib",
        "outputId": "e50f91d5-0d8c-4e31-b26a-8bb227d0ad7a"
      },
      "source": [
        "#Finding the number of maximum people who bought the product\n",
        "#watching an ad\n",
        "max_purchases=np.max(d2e[ : ,10])\n",
        "max_purchases"
      ],
      "execution_count": null,
      "outputs": [
        {
          "output_type": "execute_result",
          "data": {
            "text/plain": [
              "21.0"
            ]
          },
          "metadata": {},
          "execution_count": 23
        }
      ]
    },
    {
      "cell_type": "markdown",
      "metadata": {
        "id": "Nw-EOc3xi6dy"
      },
      "source": [
        "So, the ad for which the purchases are maximum is not the one with maximum clicks"
      ]
    },
    {
      "cell_type": "code",
      "metadata": {
        "colab": {
          "base_uri": "https://localhost:8080/"
        },
        "id": "-UyCM_y_cCAK",
        "outputId": "eee2964d-ad2b-43b9-a333-ce1e697c828a"
      },
      "source": [
        "#Details of the ad with max number of purchases\n",
        "d2[d2[ : ,10]==\"21\"]"
      ],
      "execution_count": null,
      "outputs": [
        {
          "output_type": "execute_result",
          "data": {
            "text/plain": [
              "array([['1121104', '1178', '144533', '30-34', 'M', '16', '2080666',\n",
              "        '202', '360.1500015', '40', '21']], dtype='<U11')"
            ]
          },
          "metadata": {},
          "execution_count": 24
        }
      ]
    },
    {
      "cell_type": "code",
      "metadata": {
        "id": "VYV__1b5cCir"
      },
      "source": [
        ""
      ],
      "execution_count": null,
      "outputs": []
    }
  ]
}